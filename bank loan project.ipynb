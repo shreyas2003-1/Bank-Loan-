{
 "cells": [
  {
   "cell_type": "code",
   "execution_count": 77,
   "id": "53c6702b-2955-43b3-b8d5-b0edbf8ccae2",
   "metadata": {},
   "outputs": [],
   "source": [
    "# Importing necessary libraries\n",
    "import pandas as pd\n",
    "import numpy as np\n",
    "import seaborn as sns\n",
    "import matplotlib.pyplot as plt\n",
    "import plotly.express as px\n",
    "import warnings\n",
    "from sklearn.model_selection import train_test_split\n",
    "from sklearn.preprocessing import StandardScaler\n",
    "from sklearn.linear_model import LogisticRegression\n",
    "from sklearn.tree import DecisionTreeClassifier\n",
    "from sklearn.ensemble import RandomForestClassifier\n",
    "from sklearn.metrics import accuracy_score, classification_report\n",
    "import joblib\n",
    "import warnings\n",
    "warnings.filterwarnings('ignore')"
   ]
  },
  {
   "cell_type": "markdown",
   "id": "57d97e69-75b2-4ea3-9346-b97c9791135a",
   "metadata": {},
   "source": [
    "# Step 1: Load the dataset"
   ]
  },
  {
   "cell_type": "code",
   "execution_count": 3,
   "id": "1ff970bc-5503-4836-be12-05550a75284c",
   "metadata": {},
   "outputs": [],
   "source": [
    "bankloan= pd.read_csv(r\"C:\\Users\\Shreyas\\Downloads\\bankloan.csv\")"
   ]
  },
  {
   "cell_type": "code",
   "execution_count": 4,
   "id": "2f455f1d-65ab-40d5-b251-8765b786bd74",
   "metadata": {},
   "outputs": [
    {
     "data": {
      "text/html": [
       "<div>\n",
       "<style scoped>\n",
       "    .dataframe tbody tr th:only-of-type {\n",
       "        vertical-align: middle;\n",
       "    }\n",
       "\n",
       "    .dataframe tbody tr th {\n",
       "        vertical-align: top;\n",
       "    }\n",
       "\n",
       "    .dataframe thead th {\n",
       "        text-align: right;\n",
       "    }\n",
       "</style>\n",
       "<table border=\"1\" class=\"dataframe\">\n",
       "  <thead>\n",
       "    <tr style=\"text-align: right;\">\n",
       "      <th></th>\n",
       "      <th>ID</th>\n",
       "      <th>Age</th>\n",
       "      <th>Experience</th>\n",
       "      <th>Income</th>\n",
       "      <th>ZIP.Code</th>\n",
       "      <th>Family</th>\n",
       "      <th>CCAvg</th>\n",
       "      <th>Education</th>\n",
       "      <th>Mortgage</th>\n",
       "      <th>Personal.Loan</th>\n",
       "      <th>Securities.Account</th>\n",
       "      <th>CD.Account</th>\n",
       "      <th>Online</th>\n",
       "      <th>CreditCard</th>\n",
       "    </tr>\n",
       "  </thead>\n",
       "  <tbody>\n",
       "    <tr>\n",
       "      <th>0</th>\n",
       "      <td>1</td>\n",
       "      <td>25</td>\n",
       "      <td>1</td>\n",
       "      <td>49</td>\n",
       "      <td>91107</td>\n",
       "      <td>4</td>\n",
       "      <td>1.6</td>\n",
       "      <td>1</td>\n",
       "      <td>0</td>\n",
       "      <td>0</td>\n",
       "      <td>1</td>\n",
       "      <td>0</td>\n",
       "      <td>0</td>\n",
       "      <td>0</td>\n",
       "    </tr>\n",
       "    <tr>\n",
       "      <th>1</th>\n",
       "      <td>2</td>\n",
       "      <td>45</td>\n",
       "      <td>19</td>\n",
       "      <td>34</td>\n",
       "      <td>90089</td>\n",
       "      <td>3</td>\n",
       "      <td>1.5</td>\n",
       "      <td>1</td>\n",
       "      <td>0</td>\n",
       "      <td>0</td>\n",
       "      <td>1</td>\n",
       "      <td>0</td>\n",
       "      <td>0</td>\n",
       "      <td>0</td>\n",
       "    </tr>\n",
       "    <tr>\n",
       "      <th>2</th>\n",
       "      <td>3</td>\n",
       "      <td>39</td>\n",
       "      <td>15</td>\n",
       "      <td>11</td>\n",
       "      <td>94720</td>\n",
       "      <td>1</td>\n",
       "      <td>1.0</td>\n",
       "      <td>1</td>\n",
       "      <td>0</td>\n",
       "      <td>0</td>\n",
       "      <td>0</td>\n",
       "      <td>0</td>\n",
       "      <td>0</td>\n",
       "      <td>0</td>\n",
       "    </tr>\n",
       "    <tr>\n",
       "      <th>3</th>\n",
       "      <td>4</td>\n",
       "      <td>35</td>\n",
       "      <td>9</td>\n",
       "      <td>100</td>\n",
       "      <td>94112</td>\n",
       "      <td>1</td>\n",
       "      <td>2.7</td>\n",
       "      <td>2</td>\n",
       "      <td>0</td>\n",
       "      <td>0</td>\n",
       "      <td>0</td>\n",
       "      <td>0</td>\n",
       "      <td>0</td>\n",
       "      <td>0</td>\n",
       "    </tr>\n",
       "    <tr>\n",
       "      <th>4</th>\n",
       "      <td>5</td>\n",
       "      <td>35</td>\n",
       "      <td>8</td>\n",
       "      <td>45</td>\n",
       "      <td>91330</td>\n",
       "      <td>4</td>\n",
       "      <td>1.0</td>\n",
       "      <td>2</td>\n",
       "      <td>0</td>\n",
       "      <td>0</td>\n",
       "      <td>0</td>\n",
       "      <td>0</td>\n",
       "      <td>0</td>\n",
       "      <td>1</td>\n",
       "    </tr>\n",
       "    <tr>\n",
       "      <th>...</th>\n",
       "      <td>...</td>\n",
       "      <td>...</td>\n",
       "      <td>...</td>\n",
       "      <td>...</td>\n",
       "      <td>...</td>\n",
       "      <td>...</td>\n",
       "      <td>...</td>\n",
       "      <td>...</td>\n",
       "      <td>...</td>\n",
       "      <td>...</td>\n",
       "      <td>...</td>\n",
       "      <td>...</td>\n",
       "      <td>...</td>\n",
       "      <td>...</td>\n",
       "    </tr>\n",
       "    <tr>\n",
       "      <th>4995</th>\n",
       "      <td>4996</td>\n",
       "      <td>29</td>\n",
       "      <td>3</td>\n",
       "      <td>40</td>\n",
       "      <td>92697</td>\n",
       "      <td>1</td>\n",
       "      <td>1.9</td>\n",
       "      <td>3</td>\n",
       "      <td>0</td>\n",
       "      <td>0</td>\n",
       "      <td>0</td>\n",
       "      <td>0</td>\n",
       "      <td>1</td>\n",
       "      <td>0</td>\n",
       "    </tr>\n",
       "    <tr>\n",
       "      <th>4996</th>\n",
       "      <td>4997</td>\n",
       "      <td>30</td>\n",
       "      <td>4</td>\n",
       "      <td>15</td>\n",
       "      <td>92037</td>\n",
       "      <td>4</td>\n",
       "      <td>0.4</td>\n",
       "      <td>1</td>\n",
       "      <td>85</td>\n",
       "      <td>0</td>\n",
       "      <td>0</td>\n",
       "      <td>0</td>\n",
       "      <td>1</td>\n",
       "      <td>0</td>\n",
       "    </tr>\n",
       "    <tr>\n",
       "      <th>4997</th>\n",
       "      <td>4998</td>\n",
       "      <td>63</td>\n",
       "      <td>39</td>\n",
       "      <td>24</td>\n",
       "      <td>93023</td>\n",
       "      <td>2</td>\n",
       "      <td>0.3</td>\n",
       "      <td>3</td>\n",
       "      <td>0</td>\n",
       "      <td>0</td>\n",
       "      <td>0</td>\n",
       "      <td>0</td>\n",
       "      <td>0</td>\n",
       "      <td>0</td>\n",
       "    </tr>\n",
       "    <tr>\n",
       "      <th>4998</th>\n",
       "      <td>4999</td>\n",
       "      <td>65</td>\n",
       "      <td>40</td>\n",
       "      <td>49</td>\n",
       "      <td>90034</td>\n",
       "      <td>3</td>\n",
       "      <td>0.5</td>\n",
       "      <td>2</td>\n",
       "      <td>0</td>\n",
       "      <td>0</td>\n",
       "      <td>0</td>\n",
       "      <td>0</td>\n",
       "      <td>1</td>\n",
       "      <td>0</td>\n",
       "    </tr>\n",
       "    <tr>\n",
       "      <th>4999</th>\n",
       "      <td>5000</td>\n",
       "      <td>28</td>\n",
       "      <td>4</td>\n",
       "      <td>83</td>\n",
       "      <td>92612</td>\n",
       "      <td>3</td>\n",
       "      <td>0.8</td>\n",
       "      <td>1</td>\n",
       "      <td>0</td>\n",
       "      <td>0</td>\n",
       "      <td>0</td>\n",
       "      <td>0</td>\n",
       "      <td>1</td>\n",
       "      <td>1</td>\n",
       "    </tr>\n",
       "  </tbody>\n",
       "</table>\n",
       "<p>5000 rows × 14 columns</p>\n",
       "</div>"
      ],
      "text/plain": [
       "        ID  Age  Experience  Income  ZIP.Code  Family  CCAvg  Education  \\\n",
       "0        1   25           1      49     91107       4    1.6          1   \n",
       "1        2   45          19      34     90089       3    1.5          1   \n",
       "2        3   39          15      11     94720       1    1.0          1   \n",
       "3        4   35           9     100     94112       1    2.7          2   \n",
       "4        5   35           8      45     91330       4    1.0          2   \n",
       "...    ...  ...         ...     ...       ...     ...    ...        ...   \n",
       "4995  4996   29           3      40     92697       1    1.9          3   \n",
       "4996  4997   30           4      15     92037       4    0.4          1   \n",
       "4997  4998   63          39      24     93023       2    0.3          3   \n",
       "4998  4999   65          40      49     90034       3    0.5          2   \n",
       "4999  5000   28           4      83     92612       3    0.8          1   \n",
       "\n",
       "      Mortgage  Personal.Loan  Securities.Account  CD.Account  Online  \\\n",
       "0            0              0                   1           0       0   \n",
       "1            0              0                   1           0       0   \n",
       "2            0              0                   0           0       0   \n",
       "3            0              0                   0           0       0   \n",
       "4            0              0                   0           0       0   \n",
       "...        ...            ...                 ...         ...     ...   \n",
       "4995         0              0                   0           0       1   \n",
       "4996        85              0                   0           0       1   \n",
       "4997         0              0                   0           0       0   \n",
       "4998         0              0                   0           0       1   \n",
       "4999         0              0                   0           0       1   \n",
       "\n",
       "      CreditCard  \n",
       "0              0  \n",
       "1              0  \n",
       "2              0  \n",
       "3              0  \n",
       "4              1  \n",
       "...          ...  \n",
       "4995           0  \n",
       "4996           0  \n",
       "4997           0  \n",
       "4998           0  \n",
       "4999           1  \n",
       "\n",
       "[5000 rows x 14 columns]"
      ]
     },
     "execution_count": 4,
     "metadata": {},
     "output_type": "execute_result"
    }
   ],
   "source": [
    "bankloan"
   ]
  },
  {
   "cell_type": "code",
   "execution_count": 5,
   "id": "2388fe4f-f6f9-416d-b6fb-aba64523645c",
   "metadata": {},
   "outputs": [
    {
     "data": {
      "text/plain": [
       "(5000, 14)"
      ]
     },
     "execution_count": 5,
     "metadata": {},
     "output_type": "execute_result"
    }
   ],
   "source": [
    "bankloan.shape"
   ]
  },
  {
   "cell_type": "code",
   "execution_count": 6,
   "id": "cd807f85-f04a-4925-b34a-af537502ec54",
   "metadata": {},
   "outputs": [
    {
     "data": {
      "text/html": [
       "<div>\n",
       "<style scoped>\n",
       "    .dataframe tbody tr th:only-of-type {\n",
       "        vertical-align: middle;\n",
       "    }\n",
       "\n",
       "    .dataframe tbody tr th {\n",
       "        vertical-align: top;\n",
       "    }\n",
       "\n",
       "    .dataframe thead th {\n",
       "        text-align: right;\n",
       "    }\n",
       "</style>\n",
       "<table border=\"1\" class=\"dataframe\">\n",
       "  <thead>\n",
       "    <tr style=\"text-align: right;\">\n",
       "      <th></th>\n",
       "      <th>ID</th>\n",
       "      <th>Age</th>\n",
       "      <th>Experience</th>\n",
       "      <th>Income</th>\n",
       "      <th>ZIP.Code</th>\n",
       "      <th>Family</th>\n",
       "      <th>CCAvg</th>\n",
       "      <th>Education</th>\n",
       "      <th>Mortgage</th>\n",
       "      <th>Personal.Loan</th>\n",
       "      <th>Securities.Account</th>\n",
       "      <th>CD.Account</th>\n",
       "      <th>Online</th>\n",
       "      <th>CreditCard</th>\n",
       "    </tr>\n",
       "  </thead>\n",
       "  <tbody>\n",
       "    <tr>\n",
       "      <th>count</th>\n",
       "      <td>5000.000000</td>\n",
       "      <td>5000.000000</td>\n",
       "      <td>5000.000000</td>\n",
       "      <td>5000.000000</td>\n",
       "      <td>5000.000000</td>\n",
       "      <td>5000.000000</td>\n",
       "      <td>5000.000000</td>\n",
       "      <td>5000.000000</td>\n",
       "      <td>5000.000000</td>\n",
       "      <td>5000.000000</td>\n",
       "      <td>5000.000000</td>\n",
       "      <td>5000.00000</td>\n",
       "      <td>5000.000000</td>\n",
       "      <td>5000.000000</td>\n",
       "    </tr>\n",
       "    <tr>\n",
       "      <th>mean</th>\n",
       "      <td>2500.500000</td>\n",
       "      <td>45.338400</td>\n",
       "      <td>20.104600</td>\n",
       "      <td>73.774200</td>\n",
       "      <td>93152.503000</td>\n",
       "      <td>2.396400</td>\n",
       "      <td>1.937938</td>\n",
       "      <td>1.881000</td>\n",
       "      <td>56.498800</td>\n",
       "      <td>0.096000</td>\n",
       "      <td>0.104400</td>\n",
       "      <td>0.06040</td>\n",
       "      <td>0.596800</td>\n",
       "      <td>0.294000</td>\n",
       "    </tr>\n",
       "    <tr>\n",
       "      <th>std</th>\n",
       "      <td>1443.520003</td>\n",
       "      <td>11.463166</td>\n",
       "      <td>11.467954</td>\n",
       "      <td>46.033729</td>\n",
       "      <td>2121.852197</td>\n",
       "      <td>1.147663</td>\n",
       "      <td>1.747659</td>\n",
       "      <td>0.839869</td>\n",
       "      <td>101.713802</td>\n",
       "      <td>0.294621</td>\n",
       "      <td>0.305809</td>\n",
       "      <td>0.23825</td>\n",
       "      <td>0.490589</td>\n",
       "      <td>0.455637</td>\n",
       "    </tr>\n",
       "    <tr>\n",
       "      <th>min</th>\n",
       "      <td>1.000000</td>\n",
       "      <td>23.000000</td>\n",
       "      <td>-3.000000</td>\n",
       "      <td>8.000000</td>\n",
       "      <td>9307.000000</td>\n",
       "      <td>1.000000</td>\n",
       "      <td>0.000000</td>\n",
       "      <td>1.000000</td>\n",
       "      <td>0.000000</td>\n",
       "      <td>0.000000</td>\n",
       "      <td>0.000000</td>\n",
       "      <td>0.00000</td>\n",
       "      <td>0.000000</td>\n",
       "      <td>0.000000</td>\n",
       "    </tr>\n",
       "    <tr>\n",
       "      <th>25%</th>\n",
       "      <td>1250.750000</td>\n",
       "      <td>35.000000</td>\n",
       "      <td>10.000000</td>\n",
       "      <td>39.000000</td>\n",
       "      <td>91911.000000</td>\n",
       "      <td>1.000000</td>\n",
       "      <td>0.700000</td>\n",
       "      <td>1.000000</td>\n",
       "      <td>0.000000</td>\n",
       "      <td>0.000000</td>\n",
       "      <td>0.000000</td>\n",
       "      <td>0.00000</td>\n",
       "      <td>0.000000</td>\n",
       "      <td>0.000000</td>\n",
       "    </tr>\n",
       "    <tr>\n",
       "      <th>50%</th>\n",
       "      <td>2500.500000</td>\n",
       "      <td>45.000000</td>\n",
       "      <td>20.000000</td>\n",
       "      <td>64.000000</td>\n",
       "      <td>93437.000000</td>\n",
       "      <td>2.000000</td>\n",
       "      <td>1.500000</td>\n",
       "      <td>2.000000</td>\n",
       "      <td>0.000000</td>\n",
       "      <td>0.000000</td>\n",
       "      <td>0.000000</td>\n",
       "      <td>0.00000</td>\n",
       "      <td>1.000000</td>\n",
       "      <td>0.000000</td>\n",
       "    </tr>\n",
       "    <tr>\n",
       "      <th>75%</th>\n",
       "      <td>3750.250000</td>\n",
       "      <td>55.000000</td>\n",
       "      <td>30.000000</td>\n",
       "      <td>98.000000</td>\n",
       "      <td>94608.000000</td>\n",
       "      <td>3.000000</td>\n",
       "      <td>2.500000</td>\n",
       "      <td>3.000000</td>\n",
       "      <td>101.000000</td>\n",
       "      <td>0.000000</td>\n",
       "      <td>0.000000</td>\n",
       "      <td>0.00000</td>\n",
       "      <td>1.000000</td>\n",
       "      <td>1.000000</td>\n",
       "    </tr>\n",
       "    <tr>\n",
       "      <th>max</th>\n",
       "      <td>5000.000000</td>\n",
       "      <td>67.000000</td>\n",
       "      <td>43.000000</td>\n",
       "      <td>224.000000</td>\n",
       "      <td>96651.000000</td>\n",
       "      <td>4.000000</td>\n",
       "      <td>10.000000</td>\n",
       "      <td>3.000000</td>\n",
       "      <td>635.000000</td>\n",
       "      <td>1.000000</td>\n",
       "      <td>1.000000</td>\n",
       "      <td>1.00000</td>\n",
       "      <td>1.000000</td>\n",
       "      <td>1.000000</td>\n",
       "    </tr>\n",
       "  </tbody>\n",
       "</table>\n",
       "</div>"
      ],
      "text/plain": [
       "                ID          Age   Experience       Income      ZIP.Code  \\\n",
       "count  5000.000000  5000.000000  5000.000000  5000.000000   5000.000000   \n",
       "mean   2500.500000    45.338400    20.104600    73.774200  93152.503000   \n",
       "std    1443.520003    11.463166    11.467954    46.033729   2121.852197   \n",
       "min       1.000000    23.000000    -3.000000     8.000000   9307.000000   \n",
       "25%    1250.750000    35.000000    10.000000    39.000000  91911.000000   \n",
       "50%    2500.500000    45.000000    20.000000    64.000000  93437.000000   \n",
       "75%    3750.250000    55.000000    30.000000    98.000000  94608.000000   \n",
       "max    5000.000000    67.000000    43.000000   224.000000  96651.000000   \n",
       "\n",
       "            Family        CCAvg    Education     Mortgage  Personal.Loan  \\\n",
       "count  5000.000000  5000.000000  5000.000000  5000.000000    5000.000000   \n",
       "mean      2.396400     1.937938     1.881000    56.498800       0.096000   \n",
       "std       1.147663     1.747659     0.839869   101.713802       0.294621   \n",
       "min       1.000000     0.000000     1.000000     0.000000       0.000000   \n",
       "25%       1.000000     0.700000     1.000000     0.000000       0.000000   \n",
       "50%       2.000000     1.500000     2.000000     0.000000       0.000000   \n",
       "75%       3.000000     2.500000     3.000000   101.000000       0.000000   \n",
       "max       4.000000    10.000000     3.000000   635.000000       1.000000   \n",
       "\n",
       "       Securities.Account  CD.Account       Online   CreditCard  \n",
       "count         5000.000000  5000.00000  5000.000000  5000.000000  \n",
       "mean             0.104400     0.06040     0.596800     0.294000  \n",
       "std              0.305809     0.23825     0.490589     0.455637  \n",
       "min              0.000000     0.00000     0.000000     0.000000  \n",
       "25%              0.000000     0.00000     0.000000     0.000000  \n",
       "50%              0.000000     0.00000     1.000000     0.000000  \n",
       "75%              0.000000     0.00000     1.000000     1.000000  \n",
       "max              1.000000     1.00000     1.000000     1.000000  "
      ]
     },
     "execution_count": 6,
     "metadata": {},
     "output_type": "execute_result"
    }
   ],
   "source": [
    "bankloan.describe()"
   ]
  },
  {
   "cell_type": "code",
   "execution_count": 7,
   "id": "db3a45b6-0bb5-4c15-a94a-491f4a5f1bcb",
   "metadata": {},
   "outputs": [
    {
     "data": {
      "text/plain": [
       "Index(['ID', 'Age', 'Experience', 'Income', 'ZIP.Code', 'Family', 'CCAvg',\n",
       "       'Education', 'Mortgage', 'Personal.Loan', 'Securities.Account',\n",
       "       'CD.Account', 'Online', 'CreditCard'],\n",
       "      dtype='object')"
      ]
     },
     "execution_count": 7,
     "metadata": {},
     "output_type": "execute_result"
    }
   ],
   "source": [
    "bankloan.columns"
   ]
  },
  {
   "cell_type": "code",
   "execution_count": 8,
   "id": "3b66742f-5d2a-4a60-b508-b3e655902719",
   "metadata": {},
   "outputs": [
    {
     "name": "stdout",
     "output_type": "stream",
     "text": [
      "<class 'pandas.core.frame.DataFrame'>\n",
      "RangeIndex: 5000 entries, 0 to 4999\n",
      "Data columns (total 14 columns):\n",
      " #   Column              Non-Null Count  Dtype  \n",
      "---  ------              --------------  -----  \n",
      " 0   ID                  5000 non-null   int64  \n",
      " 1   Age                 5000 non-null   int64  \n",
      " 2   Experience          5000 non-null   int64  \n",
      " 3   Income              5000 non-null   int64  \n",
      " 4   ZIP.Code            5000 non-null   int64  \n",
      " 5   Family              5000 non-null   int64  \n",
      " 6   CCAvg               5000 non-null   float64\n",
      " 7   Education           5000 non-null   int64  \n",
      " 8   Mortgage            5000 non-null   int64  \n",
      " 9   Personal.Loan       5000 non-null   int64  \n",
      " 10  Securities.Account  5000 non-null   int64  \n",
      " 11  CD.Account          5000 non-null   int64  \n",
      " 12  Online              5000 non-null   int64  \n",
      " 13  CreditCard          5000 non-null   int64  \n",
      "dtypes: float64(1), int64(13)\n",
      "memory usage: 547.0 KB\n"
     ]
    }
   ],
   "source": [
    "bankloan.info()"
   ]
  },
  {
   "cell_type": "code",
   "execution_count": 9,
   "id": "28c2bbc5-5cf4-40d0-b7e7-c95ab777e459",
   "metadata": {},
   "outputs": [
    {
     "data": {
      "text/plain": [
       "ID                      int64\n",
       "Age                     int64\n",
       "Experience              int64\n",
       "Income                  int64\n",
       "ZIP.Code                int64\n",
       "Family                  int64\n",
       "CCAvg                 float64\n",
       "Education               int64\n",
       "Mortgage                int64\n",
       "Personal.Loan           int64\n",
       "Securities.Account      int64\n",
       "CD.Account              int64\n",
       "Online                  int64\n",
       "CreditCard              int64\n",
       "dtype: object"
      ]
     },
     "execution_count": 9,
     "metadata": {},
     "output_type": "execute_result"
    }
   ],
   "source": [
    "bankloan.dtypes"
   ]
  },
  {
   "cell_type": "code",
   "execution_count": 10,
   "id": "4102c36b-5195-41b4-b04e-3dd1498805ed",
   "metadata": {},
   "outputs": [
    {
     "data": {
      "text/plain": [
       "0"
      ]
     },
     "execution_count": 10,
     "metadata": {},
     "output_type": "execute_result"
    }
   ],
   "source": [
    "bankloan.duplicated().sum()"
   ]
  },
  {
   "cell_type": "code",
   "execution_count": 11,
   "id": "f2d5ff9a-0ef0-487a-a772-b418b02f0ac4",
   "metadata": {},
   "outputs": [
    {
     "data": {
      "text/plain": [
       "ID                    0\n",
       "Age                   0\n",
       "Experience            0\n",
       "Income                0\n",
       "ZIP.Code              0\n",
       "Family                0\n",
       "CCAvg                 0\n",
       "Education             0\n",
       "Mortgage              0\n",
       "Personal.Loan         0\n",
       "Securities.Account    0\n",
       "CD.Account            0\n",
       "Online                0\n",
       "CreditCard            0\n",
       "dtype: int64"
      ]
     },
     "execution_count": 11,
     "metadata": {},
     "output_type": "execute_result"
    }
   ],
   "source": [
    "bankloan.isnull().sum()"
   ]
  },
  {
   "cell_type": "markdown",
   "id": "392bb12d-af18-40f3-b71b-d934187acdcd",
   "metadata": {},
   "source": [
    "# EDA"
   ]
  },
  {
   "cell_type": "code",
   "execution_count": 73,
   "id": "5aff0235-70d2-4735-96d0-eb2a2229d6f0",
   "metadata": {},
   "outputs": [],
   "source": [
    "Personal_Loan_count = bankloan['Personal.Loan'].value_counts().reset_index()\n",
    "Personal_Loan_count.columns = ['Personal.Loan', 'count']  \n",
    "Personal_Loan_count"
   ]
  },
  {
   "cell_type": "code",
   "execution_count": 74,
   "id": "69925c4d-8fd0-4084-ae76-68038e0b6b32",
   "metadata": {},
   "outputs": [
    {
     "data": {
      "image/png": "[encoded data removed]",
      "text/plain": [
       "<Figure size 640x480 with 1 Axes>"
      ]
     },
     "metadata": {},
     "output_type": "display_data"
    }
   ],
   "source": [
    "#plt.figure(figsize = (20, 10))\n",
    "bankloan['Personal.Loan'].value_counts().plot.pie(startangle=90,autopct=\"%.2f%%\",colors=[\"red\",\"royalblue\"])\n",
    "plt.title(\"Class distribution\", fontsize=15);\n",
    "plt.ylabel(\" \")\n",
    "plt.legend(loc=\"upper right\");"
   ]
  },
  {
   "cell_type": "markdown",
   "id": "f575dfdd-8142-4eaa-9b8c-73775c3cec73",
   "metadata": {},
   "source": [
    "# Family count"
   ]
  },
  {
   "cell_type": "code",
   "execution_count": 71,
   "id": "b61fc348-9d34-4bdd-a131-c0e0e44b6104",
   "metadata": {},
   "outputs": [
    {
     "data": {
      "text/html": [
       "<div>\n",
       "<style scoped>\n",
       "    .dataframe tbody tr th:only-of-type {\n",
       "        vertical-align: middle;\n",
       "    }\n",
       "\n",
       "    .dataframe tbody tr th {\n",
       "        vertical-align: top;\n",
       "    }\n",
       "\n",
       "    .dataframe thead th {\n",
       "        text-align: right;\n",
       "    }\n",
       "</style>\n",
       "<table border=\"1\" class=\"dataframe\">\n",
       "  <thead>\n",
       "    <tr style=\"text-align: right;\">\n",
       "      <th></th>\n",
       "      <th>Family</th>\n",
       "      <th>count</th>\n",
       "    </tr>\n",
       "  </thead>\n",
       "  <tbody>\n",
       "    <tr>\n",
       "      <th>0</th>\n",
       "      <td>1</td>\n",
       "      <td>1472</td>\n",
       "    </tr>\n",
       "    <tr>\n",
       "      <th>1</th>\n",
       "      <td>2</td>\n",
       "      <td>1296</td>\n",
       "    </tr>\n",
       "    <tr>\n",
       "      <th>2</th>\n",
       "      <td>4</td>\n",
       "      <td>1222</td>\n",
       "    </tr>\n",
       "    <tr>\n",
       "      <th>3</th>\n",
       "      <td>3</td>\n",
       "      <td>1010</td>\n",
       "    </tr>\n",
       "  </tbody>\n",
       "</table>\n",
       "</div>"
      ],
      "text/plain": [
       "   Family  count\n",
       "0       1   1472\n",
       "1       2   1296\n",
       "2       4   1222\n",
       "3       3   1010"
      ]
     },
     "execution_count": 71,
     "metadata": {},
     "output_type": "execute_result"
    }
   ],
   "source": [
    "family_count = bankloan['Family'].value_counts().reset_index()\n",
    "family_count"
   ]
  },
  {
   "cell_type": "code",
   "execution_count": 93,
   "id": "44e12c5c-680d-4806-98a4-29476c6a2aaa",
   "metadata": {},
   "outputs": [
    {
     "data": {
      "image/png": "[encoded data removed]",
      "text/plain": [
       "<Figure size 800x800 with 1 Axes>"
      ]
     },
     "metadata": {},
     "output_type": "display_data"
    }
   ],
   "source": [
    "plt.figure(figsize=(8, 8))\n",
    "sns.barplot(x=\"Family\",y=\"count\",data=family_count,ci=0,estimator=np.median,palette='plasma')\n",
    "plt.xticks(rotation=90);"
   ]
  },
  {
   "cell_type": "code",
   "execution_count": 80,
   "id": "ce194af3-4ae6-47ce-89f2-e98bb01eb300",
   "metadata": {},
   "outputs": [
    {
     "data": {
      "text/html": [
       "<div>\n",
       "<style scoped>\n",
       "    .dataframe tbody tr th:only-of-type {\n",
       "        vertical-align: middle;\n",
       "    }\n",
       "\n",
       "    .dataframe tbody tr th {\n",
       "        vertical-align: top;\n",
       "    }\n",
       "\n",
       "    .dataframe thead th {\n",
       "        text-align: right;\n",
       "    }\n",
       "</style>\n",
       "<table border=\"1\" class=\"dataframe\">\n",
       "  <thead>\n",
       "    <tr style=\"text-align: right;\">\n",
       "      <th></th>\n",
       "      <th>ID</th>\n",
       "      <th>Age</th>\n",
       "      <th>Experience</th>\n",
       "      <th>Income</th>\n",
       "      <th>ZIP.Code</th>\n",
       "      <th>Family</th>\n",
       "      <th>CCAvg</th>\n",
       "      <th>Education</th>\n",
       "      <th>Mortgage</th>\n",
       "      <th>Personal.Loan</th>\n",
       "      <th>Securities.Account</th>\n",
       "      <th>CD.Account</th>\n",
       "      <th>Online</th>\n",
       "      <th>CreditCard</th>\n",
       "    </tr>\n",
       "  </thead>\n",
       "  <tbody>\n",
       "    <tr>\n",
       "      <th>0</th>\n",
       "      <td>1</td>\n",
       "      <td>25</td>\n",
       "      <td>1</td>\n",
       "      <td>49</td>\n",
       "      <td>91107</td>\n",
       "      <td>4</td>\n",
       "      <td>1.6</td>\n",
       "      <td>1</td>\n",
       "      <td>0</td>\n",
       "      <td>0</td>\n",
       "      <td>1</td>\n",
       "      <td>0</td>\n",
       "      <td>0</td>\n",
       "      <td>0</td>\n",
       "    </tr>\n",
       "    <tr>\n",
       "      <th>1</th>\n",
       "      <td>2</td>\n",
       "      <td>45</td>\n",
       "      <td>19</td>\n",
       "      <td>34</td>\n",
       "      <td>90089</td>\n",
       "      <td>3</td>\n",
       "      <td>1.5</td>\n",
       "      <td>1</td>\n",
       "      <td>0</td>\n",
       "      <td>0</td>\n",
       "      <td>1</td>\n",
       "      <td>0</td>\n",
       "      <td>0</td>\n",
       "      <td>0</td>\n",
       "    </tr>\n",
       "  </tbody>\n",
       "</table>\n",
       "</div>"
      ],
      "text/plain": [
       "   ID  Age  Experience  Income  ZIP.Code  Family  CCAvg  Education  Mortgage  \\\n",
       "0   1   25           1      49     91107       4    1.6          1         0   \n",
       "1   2   45          19      34     90089       3    1.5          1         0   \n",
       "\n",
       "   Personal.Loan  Securities.Account  CD.Account  Online  CreditCard  \n",
       "0              0                   1           0       0           0  \n",
       "1              0                   1           0       0           0  "
      ]
     },
     "execution_count": 80,
     "metadata": {},
     "output_type": "execute_result"
    }
   ],
   "source": [
    "bankloan.head(2)"
   ]
  },
  {
   "cell_type": "markdown",
   "id": "aabccb8e-f937-4cf5-ba1c-509608b63d65",
   "metadata": {},
   "source": [
    "# CreditCard"
   ]
  },
  {
   "cell_type": "code",
   "execution_count": 87,
   "id": "fbc9d8ca-9293-41b4-bc5c-18df257adab4",
   "metadata": {},
   "outputs": [
    {
     "data": {
      "text/html": [
       "<div>\n",
       "<style scoped>\n",
       "    .dataframe tbody tr th:only-of-type {\n",
       "        vertical-align: middle;\n",
       "    }\n",
       "\n",
       "    .dataframe tbody tr th {\n",
       "        vertical-align: top;\n",
       "    }\n",
       "\n",
       "    .dataframe thead th {\n",
       "        text-align: right;\n",
       "    }\n",
       "</style>\n",
       "<table border=\"1\" class=\"dataframe\">\n",
       "  <thead>\n",
       "    <tr style=\"text-align: right;\">\n",
       "      <th></th>\n",
       "      <th>CreditCard</th>\n",
       "      <th>count</th>\n",
       "    </tr>\n",
       "  </thead>\n",
       "  <tbody>\n",
       "    <tr>\n",
       "      <th>0</th>\n",
       "      <td>0</td>\n",
       "      <td>3530</td>\n",
       "    </tr>\n",
       "    <tr>\n",
       "      <th>1</th>\n",
       "      <td>1</td>\n",
       "      <td>1470</td>\n",
       "    </tr>\n",
       "  </tbody>\n",
       "</table>\n",
       "</div>"
      ],
      "text/plain": [
       "   CreditCard  count\n",
       "0           0   3530\n",
       "1           1   1470"
      ]
     },
     "execution_count": 87,
     "metadata": {},
     "output_type": "execute_result"
    }
   ],
   "source": [
    "Credit_card_count = bankloan['CreditCard'].value_counts().reset_index()\n",
    "Credit_card_count.columns = ['CreditCard', 'count']  \n",
    "Credit_card_count"
   ]
  },
  {
   "cell_type": "code",
   "execution_count": 86,
   "id": "f3683f13-f743-42bd-841a-385fe33d80f4",
   "metadata": {},
   "outputs": [
    {
     "data": {
      "image/png": "[encoded data removed]",
      "text/plain": [
       "<Figure size 640x480 with 1 Axes>"
      ]
     },
     "metadata": {},
     "output_type": "display_data"
    }
   ],
   "source": [
    "#plt.figure(figsize = (20, 10))\n",
    "bankloan['CreditCard'].value_counts().plot.pie(startangle=90,autopct=\"%.2f%%\",colors=[\"red\",\"royalblue\"])\n",
    "plt.title(\"Class distribution\", fontsize=15);\n",
    "plt.ylabel(\" \")\n",
    "plt.legend(loc=\"upper right\");"
   ]
  },
  {
   "cell_type": "markdown",
   "id": "89edc4a0-afcc-4834-9ec4-eaf303aa3ba3",
   "metadata": {},
   "source": [
    "# Education Count"
   ]
  },
  {
   "cell_type": "code",
   "execution_count": null,
   "id": "4fad93e8-7ef8-4c5c-8ab4-d3ea5dfa1650",
   "metadata": {},
   "outputs": [],
   "source": [
    "bankloan.Education.value_counts()"
   ]
  },
  {
   "cell_type": "code",
   "execution_count": 91,
   "id": "a6b7ee72-6cac-4993-9cef-419a68750d21",
   "metadata": {},
   "outputs": [
    {
     "data": {
      "text/html": [
       "<div>\n",
       "<style scoped>\n",
       "    .dataframe tbody tr th:only-of-type {\n",
       "        vertical-align: middle;\n",
       "    }\n",
       "\n",
       "    .dataframe tbody tr th {\n",
       "        vertical-align: top;\n",
       "    }\n",
       "\n",
       "    .dataframe thead th {\n",
       "        text-align: right;\n",
       "    }\n",
       "</style>\n",
       "<table border=\"1\" class=\"dataframe\">\n",
       "  <thead>\n",
       "    <tr style=\"text-align: right;\">\n",
       "      <th></th>\n",
       "      <th>Education</th>\n",
       "      <th>count</th>\n",
       "    </tr>\n",
       "  </thead>\n",
       "  <tbody>\n",
       "    <tr>\n",
       "      <th>0</th>\n",
       "      <td>1</td>\n",
       "      <td>2096</td>\n",
       "    </tr>\n",
       "    <tr>\n",
       "      <th>1</th>\n",
       "      <td>3</td>\n",
       "      <td>1501</td>\n",
       "    </tr>\n",
       "    <tr>\n",
       "      <th>2</th>\n",
       "      <td>2</td>\n",
       "      <td>1403</td>\n",
       "    </tr>\n",
       "  </tbody>\n",
       "</table>\n",
       "</div>"
      ],
      "text/plain": [
       "   Education  count\n",
       "0          1   2096\n",
       "1          3   1501\n",
       "2          2   1403"
      ]
     },
     "execution_count": 91,
     "metadata": {},
     "output_type": "execute_result"
    }
   ],
   "source": [
    "Education_count = bankloan['Education'].value_counts().reset_index()\n",
    "Education_count.columns = ['Education', 'count'] \n",
    "Education_count"
   ]
  },
  {
   "cell_type": "code",
   "execution_count": 94,
   "id": "e1a1a384-74fe-46b2-bc19-5fb10335b86c",
   "metadata": {},
   "outputs": [
    {
     "data": {
      "image/png": "[encoded data removed]",
      "text/plain": [
       "<Figure size 800x800 with 1 Axes>"
      ]
     },
     "metadata": {},
     "output_type": "display_data"
    }
   ],
   "source": [
    "plt.figure(figsize=(8, 8))\n",
    "sns.barplot(x=\"Education\",y=\"count\",data=Education_count,ci=0,estimator=np.median,palette='plasma')\n",
    "plt.xticks(rotation=90);"
   ]
  },
  {
   "cell_type": "code",
   "execution_count": 101,
   "id": "f0c9cb5c-1d62-444b-a0f5-0bf2461f39b8",
   "metadata": {},
   "outputs": [
    {
     "data": {
      "text/plain": [
       "Securities.Account\n",
       "0    4478\n",
       "1     522\n",
       "Name: count, dtype: int64"
      ]
     },
     "execution_count": 101,
     "metadata": {},
     "output_type": "execute_result"
    }
   ],
   "source": [
    "bankloan['Securities.Account'].value_counts()"
   ]
  },
  {
   "cell_type": "code",
   "execution_count": null,
   "id": "e2d2bbed-ad4d-4b70-944c-21b726d7c178",
   "metadata": {},
   "outputs": [],
   "source": [
    "# "
   ]
  },
  {
   "cell_type": "code",
   "execution_count": 103,
   "id": "ff5ef391-3546-4c54-8e43-afa77998ca76",
   "metadata": {},
   "outputs": [
    {
     "data": {
      "text/html": [
       "<div>\n",
       "<style scoped>\n",
       "    .dataframe tbody tr th:only-of-type {\n",
       "        vertical-align: middle;\n",
       "    }\n",
       "\n",
       "    .dataframe tbody tr th {\n",
       "        vertical-align: top;\n",
       "    }\n",
       "\n",
       "    .dataframe thead th {\n",
       "        text-align: right;\n",
       "    }\n",
       "</style>\n",
       "<table border=\"1\" class=\"dataframe\">\n",
       "  <thead>\n",
       "    <tr style=\"text-align: right;\">\n",
       "      <th></th>\n",
       "      <th>Securities.Account</th>\n",
       "      <th>count</th>\n",
       "    </tr>\n",
       "  </thead>\n",
       "  <tbody>\n",
       "    <tr>\n",
       "      <th>0</th>\n",
       "      <td>0</td>\n",
       "      <td>4478</td>\n",
       "    </tr>\n",
       "    <tr>\n",
       "      <th>1</th>\n",
       "      <td>1</td>\n",
       "      <td>522</td>\n",
       "    </tr>\n",
       "  </tbody>\n",
       "</table>\n",
       "</div>"
      ],
      "text/plain": [
       "   Securities.Account  count\n",
       "0                   0   4478\n",
       "1                   1    522"
      ]
     },
     "execution_count": 103,
     "metadata": {},
     "output_type": "execute_result"
    }
   ],
   "source": [
    "Securities_Account_count = bankloan['Securities.Account'].value_counts().reset_index()\n",
    "Securities_Account_count.columns = ['Securities.Account', 'count']  \n",
    "Securities_Account_count"
   ]
  },
  {
   "cell_type": "code",
   "execution_count": 104,
   "id": "15808702-f4bd-4e1c-a482-84cdbd6f0876",
   "metadata": {},
   "outputs": [
    {
     "data": {
      "image/png": "[encoded data removed]",
      "text/plain": [
       "<Figure size 640x480 with 1 Axes>"
      ]
     },
     "metadata": {},
     "output_type": "display_data"
    }
   ],
   "source": [
    "#plt.figure(figsize = (20, 10))\n",
    "bankloan['Securities.Account'].value_counts().plot.pie(startangle=90,autopct=\"%.2f%%\",colors=[\"red\",\"royalblue\"])\n",
    "plt.title(\"Class distribution\", fontsize=15);\n",
    "plt.ylabel(\" \")\n",
    "plt.legend(loc=\"upper right\");"
   ]
  },
  {
   "cell_type": "markdown",
   "id": "2503e242-30a6-4165-b3c2-da7b8c11cfff",
   "metadata": {},
   "source": [
    "# Correlation heatmap"
   ]
  },
  {
   "cell_type": "code",
   "execution_count": 130,
   "id": "9af0f429-8380-493c-831e-58f1668d1934",
   "metadata": {},
   "outputs": [
    {
     "data": {
      "image/png": "[encoded data removed]",
      "text/plain": [
       "<Figure size 4000x3500 with 2 Axes>"
      ]
     },
     "metadata": {},
     "output_type": "display_data"
    }
   ],
   "source": [
    "plt.figure(figsize=(40,35))\n",
    "correlation = bankloan.corr()\n",
    "sns.heatmap(correlation, annot=True, linewidths=0.5)\n",
    "plt.title('Correlation Heatmap')\n",
    "plt.show()\n"
   ]
  },
  {
   "cell_type": "code",
   "execution_count": null,
   "id": "e78aaf37-63a5-4a6b-b221-c685025cb8b0",
   "metadata": {},
   "outputs": [],
   "source": []
  },
  {
   "cell_type": "code",
   "execution_count": null,
   "id": "d5742494-5eca-4181-8393-294ce11cf201",
   "metadata": {},
   "outputs": [],
   "source": []
  },
  {
   "cell_type": "markdown",
   "id": "f42ca08f-7fa0-413e-b231-950924397242",
   "metadata": {},
   "source": [
    "# Dropping "
   ]
  },
  {
   "cell_type": "code",
   "execution_count": 12,
   "id": "adb413c8-6722-4f87-a11c-7e08e1bd8831",
   "metadata": {},
   "outputs": [],
   "source": [
    "\n",
    "bankloan_df_cleaned = bankloan.drop(columns=['ID', 'ZIP.Code'])\n"
   ]
  },
  {
   "cell_type": "markdown",
   "id": "cf1a84e0-2d96-4ce7-86f0-f35db5928561",
   "metadata": {},
   "source": [
    "# Step 3: Define X and y"
   ]
  },
  {
   "cell_type": "code",
   "execution_count": 13,
   "id": "a95cd8e4-cb11-4a1b-a356-cf41b2786eef",
   "metadata": {},
   "outputs": [],
   "source": [
    "\n",
    "X_bankloan = bankloan_df_cleaned.drop(columns=['Personal.Loan'])\n",
    "Y_bankloan = bankloan_df_cleaned['Personal.Loan']\n"
   ]
  },
  {
   "cell_type": "markdown",
   "id": "07ebfc3d-30ec-47d3-b229-3714f2c8a8dc",
   "metadata": {},
   "source": [
    "\n",
    "# Step 4: Split the data into training and testing sets"
   ]
  },
  {
   "cell_type": "code",
   "execution_count": 14,
   "id": "bc336614-6907-4933-9158-4bc9c6c8d4d4",
   "metadata": {},
   "outputs": [],
   "source": [
    "\n",
    "X_train_bankloan, X_test_bankloan, Y_train_bankloan, Y_test_bankloan = train_test_split(X_bankloan, Y_bankloan, test_size=0.3, random_state=42)\n"
   ]
  },
  {
   "cell_type": "markdown",
   "id": "b048d3b2-acff-4871-ae60-2d9046b5fc0b",
   "metadata": {},
   "source": [
    "# Step 5: Scale the data using StandardScaler"
   ]
  },
  {
   "cell_type": "code",
   "execution_count": 15,
   "id": "62947302-b24b-4458-8c24-2e87837c477c",
   "metadata": {},
   "outputs": [],
   "source": [
    "\n",
    "scaler = StandardScaler()\n",
    "X_train_bankloan_scaled = scaler.fit_transform(X_train_bankloan)\n",
    "X_test_bankloan_scaled = scaler.transform(X_test_bankloan)\n"
   ]
  },
  {
   "cell_type": "code",
   "execution_count": 16,
   "id": "603a47c2-42f3-420d-8102-1acf6e9929a9",
   "metadata": {},
   "outputs": [
    {
     "name": "stdout",
     "output_type": "stream",
     "text": [
      "(3500, 11)\n",
      "(3500,)\n",
      "(1500, 11)\n",
      "(1500,)\n"
     ]
    }
   ],
   "source": [
    "print(X_train_bankloan_scaled.shape)\n",
    "print(Y_train_bankloan.shape)\n",
    "print(X_test_bankloan_scaled.shape)\n",
    "print(Y_test_bankloan.shape)"
   ]
  },
  {
   "cell_type": "markdown",
   "id": "1a774317-5064-4a21-9536-8b6611593105",
   "metadata": {},
   "source": [
    "# Step 6: Model 1 - Logistic Regression\n"
   ]
  },
  {
   "cell_type": "code",
   "execution_count": 17,
   "id": "8f942de7-25f8-45d8-a3ea-64139ce3a257",
   "metadata": {},
   "outputs": [
    {
     "name": "stdout",
     "output_type": "stream",
     "text": [
      "[-4.54482569]\n",
      "[[-0.17163992  0.3203105   2.3461909   0.77969943  0.21108727  1.33141624\n",
      "   0.06705492 -0.29116288  0.85470111 -0.26789411 -0.51939108]]\n"
     ]
    }
   ],
   "source": [
    "from sklearn.metrics import confusion_matrix,accuracy_score,classification_report\n",
    "log_reg = LogisticRegression()\n",
    "log_reg.fit(X_train_bankloan_scaled, Y_train_bankloan)\n",
    "print(log_reg.intercept_)\n",
    "print(log_reg.coef_)\n"
   ]
  },
  {
   "cell_type": "code",
   "execution_count": 19,
   "id": "7d9b845c-bd20-4bf8-bc94-f605fc1a3b01",
   "metadata": {},
   "outputs": [
    {
     "name": "stdout",
     "output_type": "stream",
     "text": [
      "[('ID', -0.17163992301611067), ('Age', 0.32031050032503955), ('Experience', 2.3461909022417187), ('Income', 0.7796994294590873), ('ZIP.Code', 0.21108726966157904), ('Family', 1.3314162423528455), ('CCAvg', 0.06705491710245168), ('Education', -0.29116288178120436), ('Mortgage', 0.854701106935195), ('Personal.Loan', -0.26789411407291147), ('Securities.Account', -0.519391075245737)]\n"
     ]
    }
   ],
   "source": [
    "print(list(zip(bankloan.columns[0:-1], log_reg.coef_.ravel())))"
   ]
  },
  {
   "cell_type": "code",
   "execution_count": 20,
   "id": "64bfc428-f152-4ec9-810e-deb1c510de21",
   "metadata": {},
   "outputs": [
    {
     "name": "stdout",
     "output_type": "stream",
     "text": [
      "[0 0 0 ... 0 0 1]\n"
     ]
    }
   ],
   "source": [
    "y_pred_log_reg = log_reg.predict(X_test_bankloan_scaled)\n",
    "log_reg_acc = accuracy_score(Y_test_bankloan, y_pred_log_reg)\n",
    "log_reg_report = classification_report(Y_test_bankloan, y_pred_log_reg)\n",
    "print(y_pred_log_reg)\n"
   ]
  },
  {
   "cell_type": "code",
   "execution_count": 21,
   "id": "a5f1d246-44be-46b2-b614-aa5c423d06ed",
   "metadata": {},
   "outputs": [
    {
     "data": {
      "text/plain": [
       "array([[9.99815394e-01, 1.84606385e-04],\n",
       "       [7.39604863e-01, 2.60395137e-01],\n",
       "       [9.73293037e-01, 2.67069632e-02],\n",
       "       ...,\n",
       "       [9.94563907e-01, 5.43609254e-03],\n",
       "       [9.80629914e-01, 1.93700857e-02],\n",
       "       [6.90057937e-03, 9.93099421e-01]])"
      ]
     },
     "execution_count": 21,
     "metadata": {},
     "output_type": "execute_result"
    }
   ],
   "source": [
    "Y_pred_prob=log_reg.predict_proba(X_test_bankloan_scaled)\n",
    "Y_pred_prob"
   ]
  },
  {
   "cell_type": "code",
   "execution_count": 22,
   "id": "5b48a988-b5ed-4d68-8b88-847a97daf55f",
   "metadata": {},
   "outputs": [
    {
     "name": "stdout",
     "output_type": "stream",
     "text": [
      "[[1324   19]\n",
      " [  53  104]]\n",
      "Logistic Regression Accuracy: 0.952\n",
      "              precision    recall  f1-score   support\n",
      "\n",
      "           0       0.96      0.99      0.97      1343\n",
      "           1       0.85      0.66      0.74       157\n",
      "\n",
      "    accuracy                           0.95      1500\n",
      "   macro avg       0.90      0.82      0.86      1500\n",
      "weighted avg       0.95      0.95      0.95      1500\n",
      "\n",
      "Logistic Regression Accuracy: 0.952\n"
     ]
    }
   ],
   "source": [
    "cfm=confusion_matrix(Y_test_bankloan,y_pred_log_reg)\n",
    "print(cfm)\n",
    "print(f\"Logistic Regression Accuracy: {log_reg_acc}\")\n",
    "print(log_reg_report)\n",
    "print(f\"Logistic Regression Accuracy: {log_reg_acc}\")\n"
   ]
  },
  {
   "cell_type": "code",
   "execution_count": 23,
   "id": "85ff928b-6423-41bf-b79c-49b6cca52984",
   "metadata": {},
   "outputs": [],
   "source": [
    "Y_pred_log_reg=[]\n",
    "for value in Y_pred_prob[:,1]:\n",
    "    if value > 0.46:\n",
    "        Y_pred_log_reg.append(1)\n",
    "    else:\n",
    "        Y_pred_log_reg.append(0)\n",
    "#print(y_pred_class)"
   ]
  },
  {
   "cell_type": "code",
   "execution_count": 24,
   "id": "60e8e2aa-6ece-4389-aec3-096e55d1fa9a",
   "metadata": {},
   "outputs": [
    {
     "name": "stdout",
     "output_type": "stream",
     "text": [
      "[[1322   21]\n",
      " [  51  106]]\n",
      "Accuracy of the model:  0.952\n",
      "              precision    recall  f1-score   support\n",
      "\n",
      "           0       0.96      0.98      0.97      1343\n",
      "           1       0.83      0.68      0.75       157\n",
      "\n",
      "    accuracy                           0.95      1500\n",
      "   macro avg       0.90      0.83      0.86      1500\n",
      "weighted avg       0.95      0.95      0.95      1500\n",
      "\n"
     ]
    }
   ],
   "source": [
    "from sklearn.metrics import confusion_matrix,accuracy_score,classification_report\n",
    "cfm=confusion_matrix(Y_test_bankloan,Y_pred_log_reg)\n",
    "print(cfm)\n",
    "acc=accuracy_score(Y_test_bankloan, Y_pred_log_reg)\n",
    "print(\"Accuracy of the model: \",acc)\n",
    "print(classification_report(Y_test_bankloan, Y_pred_log_reg))"
   ]
  },
  {
   "cell_type": "code",
   "execution_count": 25,
   "id": "2a73d6e0-dd65-445d-bebb-9f132fdc4e50",
   "metadata": {},
   "outputs": [
    {
     "name": "stdout",
     "output_type": "stream",
     "text": [
      "Errors at threshold  0.4 : 72  , type 2 error : 45  , type 1 error: 27\n",
      "Errors at threshold  0.41000000000000003 : 73  , type 2 error : 46  , type 1 error: 27\n",
      "Errors at threshold  0.42000000000000004 : 72  , type 2 error : 47  , type 1 error: 25\n",
      "Errors at threshold  0.43000000000000005 : 72  , type 2 error : 47  , type 1 error: 25\n",
      "Errors at threshold  0.44000000000000006 : 73  , type 2 error : 48  , type 1 error: 25\n",
      "Errors at threshold  0.45000000000000007 : 73  , type 2 error : 50  , type 1 error: 23\n",
      "Errors at threshold  0.4600000000000001 : 72  , type 2 error : 51  , type 1 error: 21\n",
      "Errors at threshold  0.4700000000000001 : 73  , type 2 error : 52  , type 1 error: 21\n",
      "Errors at threshold  0.4800000000000001 : 72  , type 2 error : 52  , type 1 error: 20\n",
      "Errors at threshold  0.4900000000000001 : 73  , type 2 error : 53  , type 1 error: 20\n",
      "Errors at threshold  0.5000000000000001 : 72  , type 2 error : 53  , type 1 error: 19\n",
      "Errors at threshold  0.5100000000000001 : 71  , type 2 error : 54  , type 1 error: 17\n",
      "Errors at threshold  0.5200000000000001 : 72  , type 2 error : 58  , type 1 error: 14\n",
      "Errors at threshold  0.5300000000000001 : 73  , type 2 error : 60  , type 1 error: 13\n",
      "Errors at threshold  0.5400000000000001 : 74  , type 2 error : 63  , type 1 error: 11\n",
      "Errors at threshold  0.5500000000000002 : 72  , type 2 error : 63  , type 1 error: 9\n",
      "Errors at threshold  0.5600000000000002 : 74  , type 2 error : 65  , type 1 error: 9\n",
      "Errors at threshold  0.5700000000000002 : 76  , type 2 error : 67  , type 1 error: 9\n",
      "Errors at threshold  0.5800000000000002 : 80  , type 2 error : 71  , type 1 error: 9\n",
      "Errors at threshold  0.5900000000000002 : 81  , type 2 error : 72  , type 1 error: 9\n",
      "Errors at threshold  0.6000000000000002 : 81  , type 2 error : 72  , type 1 error: 9\n"
     ]
    }
   ],
   "source": [
    "for a in np.arange(0.4,0.61,0.01):\n",
    "    predict_mine = np.where(Y_pred_prob[:,1] > a, 1, 0)\n",
    "    cfm=confusion_matrix(Y_test_bankloan, predict_mine)\n",
    "    total_err=cfm[0,1]+cfm[1,0]\n",
    "    print(\"Errors at threshold \", a, \":\",total_err, \" , type 2 error :\", \n",
    "          cfm[1,0],\" , type 1 error:\", cfm[0,1])"
   ]
  },
  {
   "cell_type": "markdown",
   "id": "d56241d1-6132-479e-b2d5-1472e305b393",
   "metadata": {},
   "source": [
    "# Step 7: Model 2 - Decision Tree"
   ]
  },
  {
   "cell_type": "code",
   "execution_count": 26,
   "id": "984cdf47-f908-4cc4-ac25-0632278761ff",
   "metadata": {},
   "outputs": [
    {
     "data": {
      "text/html": [
       "<style>#sk-container-id-1 {color: black;background-color: white;}#sk-container-id-1 pre{padding: 0;}#sk-container-id-1 div.sk-toggleable {background-color: white;}#sk-container-id-1 label.sk-toggleable__label {cursor: pointer;display: block;width: 100%;margin-bottom: 0;padding: 0.3em;box-sizing: border-box;text-align: center;}#sk-container-id-1 label.sk-toggleable__label-arrow:before {content: \"▸\";float: left;margin-right: 0.25em;color: #696969;}#sk-container-id-1 label.sk-toggleable__label-arrow:hover:before {color: black;}#sk-container-id-1 div.sk-estimator:hover label.sk-toggleable__label-arrow:before {color: black;}#sk-container-id-1 div.sk-toggleable__content {max-height: 0;max-width: 0;overflow: hidden;text-align: left;background-color: #f0f8ff;}#sk-container-id-1 div.sk-toggleable__content pre {margin: 0.2em;color: black;border-radius: 0.25em;background-color: #f0f8ff;}#sk-container-id-1 input.sk-toggleable__control:checked~div.sk-toggleable__content {max-height: 200px;max-width: 100%;overflow: auto;}#sk-container-id-1 input.sk-toggleable__control:checked~label.sk-toggleable__label-arrow:before {content: \"▾\";}#sk-container-id-1 div.sk-estimator input.sk-toggleable__control:checked~label.sk-toggleable__label {background-color: #d4ebff;}#sk-container-id-1 div.sk-label input.sk-toggleable__control:checked~label.sk-toggleable__label {background-color: #d4ebff;}#sk-container-id-1 input.sk-hidden--visually {border: 0;clip: rect(1px 1px 1px 1px);clip: rect(1px, 1px, 1px, 1px);height: 1px;margin: -1px;overflow: hidden;padding: 0;position: absolute;width: 1px;}#sk-container-id-1 div.sk-estimator {font-family: monospace;background-color: #f0f8ff;border: 1px dotted black;border-radius: 0.25em;box-sizing: border-box;margin-bottom: 0.5em;}#sk-container-id-1 div.sk-estimator:hover {background-color: #d4ebff;}#sk-container-id-1 div.sk-parallel-item::after {content: \"\";width: 100%;border-bottom: 1px solid gray;flex-grow: 1;}#sk-container-id-1 div.sk-label:hover label.sk-toggleable__label {background-color: #d4ebff;}#sk-container-id-1 div.sk-serial::before {content: \"\";position: absolute;border-left: 1px solid gray;box-sizing: border-box;top: 0;bottom: 0;left: 50%;z-index: 0;}#sk-container-id-1 div.sk-serial {display: flex;flex-direction: column;align-items: center;background-color: white;padding-right: 0.2em;padding-left: 0.2em;position: relative;}#sk-container-id-1 div.sk-item {position: relative;z-index: 1;}#sk-container-id-1 div.sk-parallel {display: flex;align-items: stretch;justify-content: center;background-color: white;position: relative;}#sk-container-id-1 div.sk-item::before, #sk-container-id-1 div.sk-parallel-item::before {content: \"\";position: absolute;border-left: 1px solid gray;box-sizing: border-box;top: 0;bottom: 0;left: 50%;z-index: -1;}#sk-container-id-1 div.sk-parallel-item {display: flex;flex-direction: column;z-index: 1;position: relative;background-color: white;}#sk-container-id-1 div.sk-parallel-item:first-child::after {align-self: flex-end;width: 50%;}#sk-container-id-1 div.sk-parallel-item:last-child::after {align-self: flex-start;width: 50%;}#sk-container-id-1 div.sk-parallel-item:only-child::after {width: 0;}#sk-container-id-1 div.sk-dashed-wrapped {border: 1px dashed gray;margin: 0 0.4em 0.5em 0.4em;box-sizing: border-box;padding-bottom: 0.4em;background-color: white;}#sk-container-id-1 div.sk-label label {font-family: monospace;font-weight: bold;display: inline-block;line-height: 1.2em;}#sk-container-id-1 div.sk-label-container {text-align: center;}#sk-container-id-1 div.sk-container {/* jupyter's `normalize.less` sets `[hidden] { display: none; }` but bootstrap.min.css set `[hidden] { display: none !important; }` so we also need the `!important` here to be able to override the default hidden behavior on the sphinx rendered scikit-learn.org. See: https://github.com/scikit-learn/scikit-learn/issues/21755 */display: inline-block !important;position: relative;}#sk-container-id-1 div.sk-text-repr-fallback {display: none;}</style><div id=\"sk-container-id-1\" class=\"sk-top-container\"><div class=\"sk-text-repr-fallback\"><pre>DecisionTreeClassifier(random_state=42)</pre><b>In a Jupyter environment, please rerun this cell to show the HTML representation or trust the notebook. <br />On GitHub, the HTML representation is unable to render, please try loading this page with nbviewer.org.</b></div><div class=\"sk-container\" hidden><div class=\"sk-item\"><div class=\"sk-estimator sk-toggleable\"><input class=\"sk-toggleable__control sk-hidden--visually\" id=\"sk-estimator-id-1\" type=\"checkbox\" checked><label for=\"sk-estimator-id-1\" class=\"sk-toggleable__label sk-toggleable__label-arrow\">DecisionTreeClassifier</label><div class=\"sk-toggleable__content\"><pre>DecisionTreeClassifier(random_state=42)</pre></div></div></div></div></div>"
      ],
      "text/plain": [
       "DecisionTreeClassifier(random_state=42)"
      ]
     },
     "execution_count": 26,
     "metadata": {},
     "output_type": "execute_result"
    }
   ],
   "source": [
    "dt_clf = DecisionTreeClassifier(random_state=42)\n",
    "dt_clf.fit(X_train_bankloan_scaled, Y_train_bankloan)"
   ]
  },
  {
   "cell_type": "code",
   "execution_count": 31,
   "id": "518d4dd0-b315-4ef1-8094-9a6115ed1712",
   "metadata": {},
   "outputs": [],
   "source": [
    "y_pred_dt = dt_clf.predict(X_test_bankloan_scaled)\n",
    "dt_acc = accuracy_score(Y_test_bankloan, y_pred_dt)"
   ]
  },
  {
   "cell_type": "code",
   "execution_count": 30,
   "id": "b4d492f3-56ad-4f21-9184-14bcffc831af",
   "metadata": {},
   "outputs": [
    {
     "name": "stdout",
     "output_type": "stream",
     "text": [
      "[[1324   19]\n",
      " [  53  104]]\n",
      "Decision Tree Accuracy: 0.9793333333333333\n",
      "              precision    recall  f1-score   support\n",
      "\n",
      "           0       0.99      0.99      0.99      1343\n",
      "           1       0.91      0.89      0.90       157\n",
      "\n",
      "    accuracy                           0.98      1500\n",
      "   macro avg       0.95      0.94      0.94      1500\n",
      "weighted avg       0.98      0.98      0.98      1500\n",
      "\n",
      "Decision Tree Accuracy: 0.9793333333333333\n"
     ]
    }
   ],
   "source": [
    "cfm=confusion_matrix(Y_test_bankloan,y_pred_log_reg)\n",
    "print(cfm)\n",
    "dt_report = classification_report(Y_test_bankloan, y_pred_dt)\n",
    "print(f\"Decision Tree Accuracy: {dt_acc}\")\n",
    "print(dt_report)\n",
    "print(f\"Decision Tree Accuracy: {dt_acc}\")"
   ]
  },
  {
   "cell_type": "code",
   "execution_count": 32,
   "id": "2aa28b03-8f2c-4f95-9457-bd8686f99913",
   "metadata": {},
   "outputs": [
    {
     "name": "stderr",
     "output_type": "stream",
     "text": [
      "C:\\Users\\Shreyas\\anaconda3\\Lib\\site-packages\\sklearn\\base.py:432: UserWarning: X has feature names, but DecisionTreeClassifier was fitted without feature names\n",
      "  warnings.warn(\n"
     ]
    },
    {
     "data": {
      "text/plain": [
       "0.09228571428571429"
      ]
     },
     "execution_count": 32,
     "metadata": {},
     "output_type": "execute_result"
    }
   ],
   "source": [
    "dt_clf.score(X_train_bankloan,Y_train_bankloan) #checking the accuracy on training data"
   ]
  },
  {
   "cell_type": "code",
   "execution_count": 36,
   "id": "58b5194e-b856-405e-9433-c6e032a0eae0",
   "metadata": {},
   "outputs": [
    {
     "data": {
      "text/plain": [
       "array([0.01273931, 0.01976226, 0.30532653, 0.16286354, 0.07819102,\n",
       "       0.37500479, 0.01489169, 0.        , 0.01420703, 0.01445577,\n",
       "       0.00255805])"
      ]
     },
     "execution_count": 36,
     "metadata": {},
     "output_type": "execute_result"
    }
   ],
   "source": [
    "dt_clf.feature_importances_"
   ]
  },
  {
   "cell_type": "code",
   "execution_count": null,
   "id": "e9f1a2d4-f13c-4b5a-849a-8c72f2734c35",
   "metadata": {},
   "outputs": [],
   "source": [
    "              "
   ]
  },
  {
   "cell_type": "markdown",
   "id": "e3b3c873-2baf-4506-932b-e39e3137bd48",
   "metadata": {},
   "source": [
    "# Print the length of columns and feature importances"
   ]
  },
  {
   "cell_type": "code",
   "execution_count": 38,
   "id": "59497c14-04d2-40f1-bbc5-4df8ea89e931",
   "metadata": {},
   "outputs": [
    {
     "name": "stdout",
     "output_type": "stream",
     "text": [
      "Number of columns: 13\n",
      "Number of feature importances: 11\n"
     ]
    },
    {
     "data": {
      "text/html": [
       "<div>\n",
       "<style scoped>\n",
       "    .dataframe tbody tr th:only-of-type {\n",
       "        vertical-align: middle;\n",
       "    }\n",
       "\n",
       "    .dataframe tbody tr th {\n",
       "        vertical-align: top;\n",
       "    }\n",
       "\n",
       "    .dataframe thead th {\n",
       "        text-align: right;\n",
       "    }\n",
       "</style>\n",
       "<table border=\"1\" class=\"dataframe\">\n",
       "  <thead>\n",
       "    <tr style=\"text-align: right;\">\n",
       "      <th></th>\n",
       "      <th>Column</th>\n",
       "      <th>Imp value</th>\n",
       "    </tr>\n",
       "  </thead>\n",
       "  <tbody>\n",
       "    <tr>\n",
       "      <th>5</th>\n",
       "      <td>Family</td>\n",
       "      <td>0.375005</td>\n",
       "    </tr>\n",
       "    <tr>\n",
       "      <th>2</th>\n",
       "      <td>Experience</td>\n",
       "      <td>0.305327</td>\n",
       "    </tr>\n",
       "    <tr>\n",
       "      <th>3</th>\n",
       "      <td>Income</td>\n",
       "      <td>0.162864</td>\n",
       "    </tr>\n",
       "    <tr>\n",
       "      <th>4</th>\n",
       "      <td>ZIP.Code</td>\n",
       "      <td>0.078191</td>\n",
       "    </tr>\n",
       "    <tr>\n",
       "      <th>1</th>\n",
       "      <td>Age</td>\n",
       "      <td>0.019762</td>\n",
       "    </tr>\n",
       "    <tr>\n",
       "      <th>6</th>\n",
       "      <td>CCAvg</td>\n",
       "      <td>0.014892</td>\n",
       "    </tr>\n",
       "    <tr>\n",
       "      <th>9</th>\n",
       "      <td>Personal.Loan</td>\n",
       "      <td>0.014456</td>\n",
       "    </tr>\n",
       "    <tr>\n",
       "      <th>8</th>\n",
       "      <td>Mortgage</td>\n",
       "      <td>0.014207</td>\n",
       "    </tr>\n",
       "    <tr>\n",
       "      <th>0</th>\n",
       "      <td>ID</td>\n",
       "      <td>0.012739</td>\n",
       "    </tr>\n",
       "    <tr>\n",
       "      <th>10</th>\n",
       "      <td>Securities.Account</td>\n",
       "      <td>0.002558</td>\n",
       "    </tr>\n",
       "    <tr>\n",
       "      <th>7</th>\n",
       "      <td>Education</td>\n",
       "      <td>0.000000</td>\n",
       "    </tr>\n",
       "  </tbody>\n",
       "</table>\n",
       "</div>"
      ],
      "text/plain": [
       "                Column  Imp value\n",
       "5               Family   0.375005\n",
       "2           Experience   0.305327\n",
       "3               Income   0.162864\n",
       "4             ZIP.Code   0.078191\n",
       "1                  Age   0.019762\n",
       "6                CCAvg   0.014892\n",
       "9        Personal.Loan   0.014456\n",
       "8             Mortgage   0.014207\n",
       "0                   ID   0.012739\n",
       "10  Securities.Account   0.002558\n",
       "7            Education   0.000000"
      ]
     },
     "execution_count": 38,
     "metadata": {},
     "output_type": "execute_result"
    }
   ],
   "source": [
    "print(f\"Number of columns: {len(bankloan.columns[0:-1])}\")\n",
    "print(f\"Number of feature importances: {len(dt_clf.feature_importances_)}\")\n",
    "\n",
    "# Align the columns with the feature importances\n",
    "# Ensure that the same columns were used for training\n",
    "sample = pd.DataFrame({\n",
    "    \"Column\": bankloan.columns[0:len(dt_clf.feature_importances_)],\n",
    "    \"Imp value\": dt_clf.feature_importances_\n",
    "})\n",
    "sample.sort_values(\"Imp value\", ascending=False)\n"
   ]
  },
  {
   "cell_type": "markdown",
   "id": "9429d828-06cc-4b23-b57f-6725a1cecbaa",
   "metadata": {},
   "source": [
    "# Model : DecisionTree"
   ]
  },
  {
   "cell_type": "code",
   "execution_count": 39,
   "id": "b35b7de5-a719-4419-ba10-38a3f3b7c958",
   "metadata": {},
   "outputs": [],
   "source": [
    "from sklearn.tree import DecisionTreeClassifier\n",
    "dt_clf=DecisionTreeClassifier(criterion='gini',\n",
    "                               splitter='best',\n",
    "                               min_samples_leaf=3,\n",
    "                                min_samples_split=5,\n",
    "                                max_depth=10,\n",
    "                                max_leaf_nodes=100,#max_features=0.6,\n",
    "                               )\n",
    "dt_clf.fit(X_train_bankloan,Y_train_bankloan)\n",
    "Y_pred=dt_clf.predict(X_test_bankloan)\n",
    "#print(list(zip(Y_test_bankloan,Y_pred)))"
   ]
  },
  {
   "cell_type": "code",
   "execution_count": 40,
   "id": "6d48594c-1123-48d9-b1ce-aa8022726ebd",
   "metadata": {},
   "outputs": [
    {
     "name": "stdout",
     "output_type": "stream",
     "text": [
      "[[1334    9]\n",
      " [  20  137]]\n",
      "0.9806666666666667\n",
      "              precision    recall  f1-score   support\n",
      "\n",
      "           0       0.99      0.99      0.99      1343\n",
      "           1       0.94      0.87      0.90       157\n",
      "\n",
      "    accuracy                           0.98      1500\n",
      "   macro avg       0.96      0.93      0.95      1500\n",
      "weighted avg       0.98      0.98      0.98      1500\n",
      "\n"
     ]
    }
   ],
   "source": [
    "from sklearn.metrics import confusion_matrix, accuracy_score, classification_report\n",
    "print(confusion_matrix(Y_test_bankloan,Y_pred)) \n",
    "print(accuracy_score(Y_test_bankloan, Y_pred))\n",
    "print(classification_report(Y_test_bankloan,Y_pred))"
   ]
  },
  {
   "cell_type": "markdown",
   "id": "d44bbe6c-783d-4c49-a542-4e4612fe24fa",
   "metadata": {},
   "source": [
    "# KNeighborsClassifier\n",
    "# SVC"
   ]
  },
  {
   "cell_type": "code",
   "execution_count": 41,
   "id": "2e4aaf91-6bfc-4664-8182-9b28496dfbf1",
   "metadata": {},
   "outputs": [],
   "source": [
    "from sklearn.tree import DecisionTreeClassifier\n",
    "from sklearn.svm import SVC\n",
    "from sklearn.neighbors import KNeighborsClassifier\n",
    "\n",
    " \n",
    "# first, initialize the classificators\n",
    "tree= DecisionTreeClassifier(random_state=10) # using the random state for reproducibility\n",
    "knn= KNeighborsClassifier(n_neighbors=5,metric='euclidean')\n",
    "svm= SVC(kernel=\"rbf\", gamma=0.1, C=90,random_state=10)\n"
   ]
  },
  {
   "cell_type": "code",
   "execution_count": 43,
   "id": "79ff75b2-fd26-4192-ba32-8d17439bca94",
   "metadata": {},
   "outputs": [],
   "source": [
    "# now, create a list with the objects \n",
    "models= [tree, knn, svm]"
   ]
  },
  {
   "cell_type": "code",
   "execution_count": 44,
   "id": "cb0e9055-9ae5-4c39-a91b-851c8301b917",
   "metadata": {},
   "outputs": [
    {
     "name": "stdout",
     "output_type": "stream",
     "text": [
      "[[1332   11]\n",
      " [  17  140]]\n",
      "The accuracy of the  DecisionTreeClassifier  model is  98.13333333333333\n",
      "Classification report:\n",
      "               precision    recall  f1-score   support\n",
      "\n",
      "           0       0.99      0.99      0.99      1343\n",
      "           1       0.93      0.89      0.91       157\n",
      "\n",
      "    accuracy                           0.98      1500\n",
      "   macro avg       0.96      0.94      0.95      1500\n",
      "weighted avg       0.98      0.98      0.98      1500\n",
      "\n",
      "\n",
      "\n",
      "[[1304   39]\n",
      " [ 105   52]]\n",
      "The accuracy of the  KNeighborsClassifier  model is  90.4\n",
      "Classification report:\n",
      "               precision    recall  f1-score   support\n",
      "\n",
      "           0       0.93      0.97      0.95      1343\n",
      "           1       0.57      0.33      0.42       157\n",
      "\n",
      "    accuracy                           0.90      1500\n",
      "   macro avg       0.75      0.65      0.68      1500\n",
      "weighted avg       0.89      0.90      0.89      1500\n",
      "\n",
      "\n",
      "\n",
      "[[1332   11]\n",
      " [ 135   22]]\n",
      "The accuracy of the  SVC  model is  90.26666666666667\n",
      "Classification report:\n",
      "               precision    recall  f1-score   support\n",
      "\n",
      "           0       0.91      0.99      0.95      1343\n",
      "           1       0.67      0.14      0.23       157\n",
      "\n",
      "    accuracy                           0.90      1500\n",
      "   macro avg       0.79      0.57      0.59      1500\n",
      "weighted avg       0.88      0.90      0.87      1500\n",
      "\n",
      "\n",
      "\n"
     ]
    }
   ],
   "source": [
    "from sklearn.metrics import confusion_matrix, accuracy_score,classification_report\n",
    " \n",
    "for model in models:\n",
    "    model.fit(X_train_bankloan, Y_train_bankloan) # fit the model\n",
    "    Y_pred= model.predict(X_test_bankloan) # then predict on the test set\n",
    "    accuracy= accuracy_score(Y_test_bankloan, Y_pred) \n",
    "    clf_report= classification_report(Y_test_bankloan, Y_pred) \n",
    "    print(confusion_matrix(Y_test_bankloan,Y_pred))\n",
    "    print(\"The accuracy of the \",type(model).__name__, \" model is \", accuracy*100 )\n",
    "    print(\"Classification report:\\n\", clf_report)\n",
    "    print(\"\\n\")"
   ]
  },
  {
   "cell_type": "markdown",
   "id": "0a3cceed-aa89-4f02-8491-15d626cb41ee",
   "metadata": {},
   "source": [
    "# Step 8: Model 3 - Random Forest"
   ]
  },
  {
   "cell_type": "code",
   "execution_count": 45,
   "id": "281b989e-bcbd-4b69-be7f-523bb43db518",
   "metadata": {},
   "outputs": [
    {
     "data": {
      "text/html": [
       "<style>#sk-container-id-2 {color: black;background-color: white;}#sk-container-id-2 pre{padding: 0;}#sk-container-id-2 div.sk-toggleable {background-color: white;}#sk-container-id-2 label.sk-toggleable__label {cursor: pointer;display: block;width: 100%;margin-bottom: 0;padding: 0.3em;box-sizing: border-box;text-align: center;}#sk-container-id-2 label.sk-toggleable__label-arrow:before {content: \"▸\";float: left;margin-right: 0.25em;color: #696969;}#sk-container-id-2 label.sk-toggleable__label-arrow:hover:before {color: black;}#sk-container-id-2 div.sk-estimator:hover label.sk-toggleable__label-arrow:before {color: black;}#sk-container-id-2 div.sk-toggleable__content {max-height: 0;max-width: 0;overflow: hidden;text-align: left;background-color: #f0f8ff;}#sk-container-id-2 div.sk-toggleable__content pre {margin: 0.2em;color: black;border-radius: 0.25em;background-color: #f0f8ff;}#sk-container-id-2 input.sk-toggleable__control:checked~div.sk-toggleable__content {max-height: 200px;max-width: 100%;overflow: auto;}#sk-container-id-2 input.sk-toggleable__control:checked~label.sk-toggleable__label-arrow:before {content: \"▾\";}#sk-container-id-2 div.sk-estimator input.sk-toggleable__control:checked~label.sk-toggleable__label {background-color: #d4ebff;}#sk-container-id-2 div.sk-label input.sk-toggleable__control:checked~label.sk-toggleable__label {background-color: #d4ebff;}#sk-container-id-2 input.sk-hidden--visually {border: 0;clip: rect(1px 1px 1px 1px);clip: rect(1px, 1px, 1px, 1px);height: 1px;margin: -1px;overflow: hidden;padding: 0;position: absolute;width: 1px;}#sk-container-id-2 div.sk-estimator {font-family: monospace;background-color: #f0f8ff;border: 1px dotted black;border-radius: 0.25em;box-sizing: border-box;margin-bottom: 0.5em;}#sk-container-id-2 div.sk-estimator:hover {background-color: #d4ebff;}#sk-container-id-2 div.sk-parallel-item::after {content: \"\";width: 100%;border-bottom: 1px solid gray;flex-grow: 1;}#sk-container-id-2 div.sk-label:hover label.sk-toggleable__label {background-color: #d4ebff;}#sk-container-id-2 div.sk-serial::before {content: \"\";position: absolute;border-left: 1px solid gray;box-sizing: border-box;top: 0;bottom: 0;left: 50%;z-index: 0;}#sk-container-id-2 div.sk-serial {display: flex;flex-direction: column;align-items: center;background-color: white;padding-right: 0.2em;padding-left: 0.2em;position: relative;}#sk-container-id-2 div.sk-item {position: relative;z-index: 1;}#sk-container-id-2 div.sk-parallel {display: flex;align-items: stretch;justify-content: center;background-color: white;position: relative;}#sk-container-id-2 div.sk-item::before, #sk-container-id-2 div.sk-parallel-item::before {content: \"\";position: absolute;border-left: 1px solid gray;box-sizing: border-box;top: 0;bottom: 0;left: 50%;z-index: -1;}#sk-container-id-2 div.sk-parallel-item {display: flex;flex-direction: column;z-index: 1;position: relative;background-color: white;}#sk-container-id-2 div.sk-parallel-item:first-child::after {align-self: flex-end;width: 50%;}#sk-container-id-2 div.sk-parallel-item:last-child::after {align-self: flex-start;width: 50%;}#sk-container-id-2 div.sk-parallel-item:only-child::after {width: 0;}#sk-container-id-2 div.sk-dashed-wrapped {border: 1px dashed gray;margin: 0 0.4em 0.5em 0.4em;box-sizing: border-box;padding-bottom: 0.4em;background-color: white;}#sk-container-id-2 div.sk-label label {font-family: monospace;font-weight: bold;display: inline-block;line-height: 1.2em;}#sk-container-id-2 div.sk-label-container {text-align: center;}#sk-container-id-2 div.sk-container {/* jupyter's `normalize.less` sets `[hidden] { display: none; }` but bootstrap.min.css set `[hidden] { display: none !important; }` so we also need the `!important` here to be able to override the default hidden behavior on the sphinx rendered scikit-learn.org. See: https://github.com/scikit-learn/scikit-learn/issues/21755 */display: inline-block !important;position: relative;}#sk-container-id-2 div.sk-text-repr-fallback {display: none;}</style><div id=\"sk-container-id-2\" class=\"sk-top-container\"><div class=\"sk-text-repr-fallback\"><pre>RandomForestClassifier(random_state=42)</pre><b>In a Jupyter environment, please rerun this cell to show the HTML representation or trust the notebook. <br />On GitHub, the HTML representation is unable to render, please try loading this page with nbviewer.org.</b></div><div class=\"sk-container\" hidden><div class=\"sk-item\"><div class=\"sk-estimator sk-toggleable\"><input class=\"sk-toggleable__control sk-hidden--visually\" id=\"sk-estimator-id-2\" type=\"checkbox\" checked><label for=\"sk-estimator-id-2\" class=\"sk-toggleable__label sk-toggleable__label-arrow\">RandomForestClassifier</label><div class=\"sk-toggleable__content\"><pre>RandomForestClassifier(random_state=42)</pre></div></div></div></div></div>"
      ],
      "text/plain": [
       "RandomForestClassifier(random_state=42)"
      ]
     },
     "execution_count": 45,
     "metadata": {},
     "output_type": "execute_result"
    }
   ],
   "source": [
    "\n",
    "rf_clf = RandomForestClassifier(random_state=42)\n",
    "rf_clf.fit(X_train_bankloan_scaled, Y_train_bankloan)"
   ]
  },
  {
   "cell_type": "code",
   "execution_count": 46,
   "id": "51b36884-7f9c-4af2-ab22-054eeb9d3b62",
   "metadata": {},
   "outputs": [],
   "source": [
    "y_pred_rf = rf_clf.predict(X_test_bankloan_scaled)\n",
    "rf_acc = accuracy_score(Y_test_bankloan, y_pred_rf)"
   ]
  },
  {
   "cell_type": "code",
   "execution_count": 47,
   "id": "1ad67a48-1983-48f1-b265-5b9465ade2ac",
   "metadata": {},
   "outputs": [
    {
     "name": "stdout",
     "output_type": "stream",
     "text": [
      "[[1332   11]\n",
      " [ 135   22]]\n",
      "Random Forest Accuracy: 0.99\n",
      "              precision    recall  f1-score   support\n",
      "\n",
      "           0       0.99      1.00      0.99      1343\n",
      "           1       0.99      0.91      0.95       157\n",
      "\n",
      "    accuracy                           0.99      1500\n",
      "   macro avg       0.99      0.96      0.97      1500\n",
      "weighted avg       0.99      0.99      0.99      1500\n",
      "\n",
      "Random Forest Accuracy: 0.99\n"
     ]
    }
   ],
   "source": [
    "print(confusion_matrix(Y_test_bankloan,Y_pred))\n",
    "rf_report = classification_report(Y_test_bankloan, y_pred_rf)\n",
    "print(f\"Random Forest Accuracy: {rf_acc}\")\n",
    "print(rf_report)\n",
    "print(f\"Random Forest Accuracy: {rf_acc}\")"
   ]
  },
  {
   "cell_type": "code",
   "execution_count": 50,
   "id": "f05c1034-1cc5-4c27-bb6f-e0506e51a4db",
   "metadata": {},
   "outputs": [
    {
     "data": {
      "text/html": [
       "<div>\n",
       "<style scoped>\n",
       "    .dataframe tbody tr th:only-of-type {\n",
       "        vertical-align: middle;\n",
       "    }\n",
       "\n",
       "    .dataframe tbody tr th {\n",
       "        vertical-align: top;\n",
       "    }\n",
       "\n",
       "    .dataframe thead th {\n",
       "        text-align: right;\n",
       "    }\n",
       "</style>\n",
       "<table border=\"1\" class=\"dataframe\">\n",
       "  <thead>\n",
       "    <tr style=\"text-align: right;\">\n",
       "      <th></th>\n",
       "      <th>Column</th>\n",
       "      <th>Imp value</th>\n",
       "    </tr>\n",
       "  </thead>\n",
       "  <tbody>\n",
       "    <tr>\n",
       "      <th>2</th>\n",
       "      <td>Experience</td>\n",
       "      <td>0.342828</td>\n",
       "    </tr>\n",
       "    <tr>\n",
       "      <th>5</th>\n",
       "      <td>Family</td>\n",
       "      <td>0.187240</td>\n",
       "    </tr>\n",
       "    <tr>\n",
       "      <th>4</th>\n",
       "      <td>ZIP.Code</td>\n",
       "      <td>0.165200</td>\n",
       "    </tr>\n",
       "    <tr>\n",
       "      <th>3</th>\n",
       "      <td>Income</td>\n",
       "      <td>0.111932</td>\n",
       "    </tr>\n",
       "    <tr>\n",
       "      <th>8</th>\n",
       "      <td>Mortgage</td>\n",
       "      <td>0.050375</td>\n",
       "    </tr>\n",
       "    <tr>\n",
       "      <th>1</th>\n",
       "      <td>Age</td>\n",
       "      <td>0.043692</td>\n",
       "    </tr>\n",
       "    <tr>\n",
       "      <th>0</th>\n",
       "      <td>ID</td>\n",
       "      <td>0.039189</td>\n",
       "    </tr>\n",
       "    <tr>\n",
       "      <th>6</th>\n",
       "      <td>CCAvg</td>\n",
       "      <td>0.038843</td>\n",
       "    </tr>\n",
       "    <tr>\n",
       "      <th>10</th>\n",
       "      <td>Securities.Account</td>\n",
       "      <td>0.008283</td>\n",
       "    </tr>\n",
       "    <tr>\n",
       "      <th>9</th>\n",
       "      <td>Personal.Loan</td>\n",
       "      <td>0.008099</td>\n",
       "    </tr>\n",
       "    <tr>\n",
       "      <th>7</th>\n",
       "      <td>Education</td>\n",
       "      <td>0.004320</td>\n",
       "    </tr>\n",
       "  </tbody>\n",
       "</table>\n",
       "</div>"
      ],
      "text/plain": [
       "                Column  Imp value\n",
       "2           Experience   0.342828\n",
       "5               Family   0.187240\n",
       "4             ZIP.Code   0.165200\n",
       "3               Income   0.111932\n",
       "8             Mortgage   0.050375\n",
       "1                  Age   0.043692\n",
       "0                   ID   0.039189\n",
       "6                CCAvg   0.038843\n",
       "10  Securities.Account   0.008283\n",
       "9        Personal.Loan   0.008099\n",
       "7            Education   0.004320"
      ]
     },
     "execution_count": 50,
     "metadata": {},
     "output_type": "execute_result"
    }
   ],
   "source": [
    "# If the lengths don't match, select only the first N columns matching the number of feature importances\n",
    "if len(bankloan.columns[0:-1]) != len(rf_clf.feature_importances_):\n",
    "    # Adjust columns to match feature importances\n",
    "    sample = pd.DataFrame({\n",
    "        \"Column\": bankloan.columns[0:len(rf_clf.feature_importances_)],\n",
    "        \"Imp value\": rf_clf.feature_importances_\n",
    "    })\n",
    "else:\n",
    "    # Directly assign if lengths match\n",
    "    sample = pd.DataFrame({\n",
    "        \"Column\": bankloan.columns[0:-1],\n",
    "        \"Imp value\": rf_clf.feature_importances_\n",
    "    })\n",
    "\n",
    "# Sort the DataFrame based on importance values\n",
    "sample.sort_values(\"Imp value\", ascending=False)\n"
   ]
  },
  {
   "cell_type": "markdown",
   "id": "b9cb7791-97d9-4bbc-ba99-cd18748744a5",
   "metadata": {},
   "source": [
    "# ExtraTrees"
   ]
  },
  {
   "cell_type": "code",
   "execution_count": 51,
   "id": "5ba0b0ca-7e45-44d9-8e44-bac29c7cb41b",
   "metadata": {},
   "outputs": [],
   "source": [
    "from sklearn.ensemble import ExtraTreesClassifier\n",
    " \n",
    "model_EXT=ExtraTreesClassifier(n_estimators=100,  #no. of bags (100 by default)\n",
    "                                          random_state=10, bootstrap=False) #with replacement nhi hoga bcoz bootstrap=False\n",
    " \n",
    "#fit the model on the data and predict the values\n",
    "model_EXT.fit(X_train_bankloan,Y_train_bankloan)\n",
    " \n",
    "Y_pred=model_EXT.predict(X_test_bankloan)"
   ]
  },
  {
   "cell_type": "code",
   "execution_count": 52,
   "id": "15bf65f2-ed06-4ac4-b4a1-9849dc412d9f",
   "metadata": {},
   "outputs": [
    {
     "name": "stdout",
     "output_type": "stream",
     "text": [
      "[[1341    2]\n",
      " [  23  134]]\n",
      "0.9833333333333333\n",
      "              precision    recall  f1-score   support\n",
      "\n",
      "           0       0.98      1.00      0.99      1343\n",
      "           1       0.99      0.85      0.91       157\n",
      "\n",
      "    accuracy                           0.98      1500\n",
      "   macro avg       0.98      0.93      0.95      1500\n",
      "weighted avg       0.98      0.98      0.98      1500\n",
      "\n",
      "0.9833333333333333\n",
      "<function accuracy_score at 0x000001A23F766F20>\n"
     ]
    }
   ],
   "source": [
    "print(confusion_matrix(Y_test_bankloan,Y_pred)) \n",
    "print(accuracy_score(Y_test_bankloan, Y_pred))\n",
    "print(classification_report(Y_test_bankloan,Y_pred))\n",
    "print(accuracy_score(Y_test_bankloan, Y_pred))\n",
    "print(accuracy_score)"
   ]
  },
  {
   "cell_type": "code",
   "execution_count": 53,
   "id": "65f9fb0a-4ca2-43a7-b8bb-fcbaf3041b9a",
   "metadata": {},
   "outputs": [],
   "source": [
    "from sklearn.ensemble import ExtraTreesClassifier\n",
    " \n",
    "model_EXT=ExtraTreesClassifier( random_state=10, bootstrap=True) #fixed parameters should be passsed here\n",
    " \n",
    "#parameters for trial and error should be passed here\n",
    "parameter_space = { #keys=arguement name\n",
    "    'n_estimators':[100,300,500,1000],       #np.arange(100, 1001,50),\n",
    "    'max_depth':[10,15,8, 12],\n",
    "    'min_samples_leaf':[1,3,4,5,6,7]\n",
    "    }\n",
    "from sklearn.model_selection import GridSearchCV #RandomizedSearchCV\n",
    "clf = GridSearchCV(model_EXT, parameter_space, n_jobs=-1, cv=5) #fixed parameters, combinations,5 fold cross validation"
   ]
  },
  {
   "cell_type": "code",
   "execution_count": 54,
   "id": "e22662cd-9653-4b8e-8d54-b3d8a3b100e5",
   "metadata": {},
   "outputs": [
    {
     "name": "stderr",
     "output_type": "stream",
     "text": [
      "\n",
      "KeyboardInterrupt\n",
      "\n"
     ]
    }
   ],
   "source": [
    "clf.fit(X_train_bankloan,Y_train_bankloan)"
   ]
  },
  {
   "cell_type": "code",
   "execution_count": null,
   "id": "1cc2fffc-9ae0-4c48-9aa4-f90de52ee5a2",
   "metadata": {},
   "outputs": [],
   "source": [
    "print('Best Parameters found \\n',clf.best_params_)"
   ]
  },
  {
   "cell_type": "code",
   "execution_count": null,
   "id": "a2b83d1d-b925-4ce2-9f48-ddd36518ad90",
   "metadata": {},
   "outputs": [],
   "source": [
    "clf.best_score_"
   ]
  },
  {
   "cell_type": "code",
   "execution_count": null,
   "id": "c514db9e-52e7-44c5-8679-94c59e0912c0",
   "metadata": {},
   "outputs": [],
   "source": [
    "Y_pred=clf.predict(X_test_bankloan) #Already trained on the best combinations so just predict now "
   ]
  },
  {
   "cell_type": "code",
   "execution_count": null,
   "id": "db0a15fd-848e-4e22-8ec8-57250ba9a388",
   "metadata": {},
   "outputs": [],
   "source": [
    "print(confusion_matrix(Y_test_bankloan,Y_pred)) \n",
    "print(accuracy_score(Y_test_bankloan, Y_pred))\n",
    "print(classification_report(Y_test_bankloan,Y_pred))"
   ]
  },
  {
   "cell_type": "code",
   "execution_count": null,
   "id": "f951f6af-b16e-4e77-b6d8-e548502d1336",
   "metadata": {},
   "outputs": [],
   "source": [
    "import pandas as pd\n",
    "\n",
    "# Assuming 'data' is your dataset\n",
    "bankloan = pd.DataFrame(bankloan_df)\n",
    "\n",
    "# Save DataFrame to CSV\n",
    "bankloan.to_csv('bankloan.csv', index=False)\n"
   ]
  },
  {
   "cell_type": "code",
   "execution_count": null,
   "id": "5e1cca7e-720d-480d-ba72-8d9480667313",
   "metadata": {},
   "outputs": [],
   "source": [
    "\n",
    "# Step 9: Save the best model and scaler\n",
    "joblib.dump(rf_clf, 'bankloan_model_rf1.pkl')\n",
    "joblib.dump(scaler, 'bankloan_scaler1.pkl')\n"
   ]
  },
  {
   "cell_type": "code",
   "execution_count": null,
   "id": "830a938e-b8ac-43c4-a4ec-1124914adaa1",
   "metadata": {},
   "outputs": [],
   "source": [
    "\n",
    "\n",
    "\n",
    "\n",
    "\n",
    "\n",
    "\n",
    "\n",
    "\n"
   ]
  },
  {
   "cell_type": "code",
   "execution_count": null,
   "id": "0d52be8f-1257-4a84-95cf-17448c1fc030",
   "metadata": {},
   "outputs": [],
   "source": []
  }
 ],
 "metadata": {
  "kernelspec": {
   "display_name": "Python 3 (ipykernel)",
   "language": "python",
   "name": "python3"
  },
  "language_info": {
   "codemirror_mode": {
    "name": "ipython",
    "version": 3
   },
   "file_extension": ".py",
   "mimetype": "text/x-python",
   "name": "python",
   "nbconvert_exporter": "python",
   "pygments_lexer": "ipython3",
   "version": "3.11.7"
  }
 },
 "nbformat": 4,
 "nbformat_minor": 5
}
